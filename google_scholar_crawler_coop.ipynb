{
 "cells": [
  {
   "cell_type": "markdown",
   "metadata": {},
   "source": [
    "# Coop:: Get citations from Google Scholar using a title list on .csv"
   ]
  },
  {
   "cell_type": "markdown",
   "metadata": {},
   "source": [
    "## Imports"
   ]
  },
  {
   "cell_type": "code",
   "execution_count": 7,
   "metadata": {},
   "outputs": [],
   "source": [
    "import numpy as np\n",
    "import pandas as pd\n",
    "import requests\n",
    "import time \n",
    "import random \n",
    "import datetime\n",
    "import ipywidgets as widgets"
   ]
  },
  {
   "cell_type": "markdown",
   "metadata": {},
   "source": [
    "## Read biblio from Scopus CVS"
   ]
  },
  {
   "cell_type": "code",
   "execution_count": 8,
   "metadata": {},
   "outputs": [],
   "source": [
    "df = pd.read_csv('ddos_coop_collab_.csv')\n",
    "#df = pd.read_csv('honeypot_googlescholar_query_honeypot_20190722.csv',index_col=0).dropna()"
   ]
  },
  {
   "cell_type": "code",
   "execution_count": 9,
   "metadata": {},
   "outputs": [
    {
     "name": "stdout",
     "output_type": "stream",
     "text": [
      "TOTAL ENTRIES: 343\n"
     ]
    },
    {
     "data": {
      "text/html": [
       "<div>\n",
       "<style scoped>\n",
       "    .dataframe tbody tr th:only-of-type {\n",
       "        vertical-align: middle;\n",
       "    }\n",
       "\n",
       "    .dataframe tbody tr th {\n",
       "        vertical-align: top;\n",
       "    }\n",
       "\n",
       "    .dataframe thead th {\n",
       "        text-align: right;\n",
       "    }\n",
       "</style>\n",
       "<table border=\"1\" class=\"dataframe\">\n",
       "  <thead>\n",
       "    <tr style=\"text-align: right;\">\n",
       "      <th></th>\n",
       "      <th>abstract</th>\n",
       "      <th>doi</th>\n",
       "      <th>eid</th>\n",
       "      <th>link</th>\n",
       "      <th>scholar</th>\n",
       "      <th>scopus</th>\n",
       "      <th>title</th>\n",
       "      <th>year</th>\n",
       "    </tr>\n",
       "  </thead>\n",
       "  <tbody>\n",
       "    <tr>\n",
       "      <th>0</th>\n",
       "      <td>Distributed denial-of-service (DDoS) attacks h...</td>\n",
       "      <td>10.1109/ICON.2002.1033348</td>\n",
       "      <td>2-s2.0-33745278421</td>\n",
       "      <td>https://www.scopus.com/inward/record.uri?partn...</td>\n",
       "      <td>NaN</td>\n",
       "      <td>27.0</td>\n",
       "      <td>Engineering of a global defense infrastructure...</td>\n",
       "      <td>2002</td>\n",
       "    </tr>\n",
       "    <tr>\n",
       "      <th>1</th>\n",
       "      <td>© 2019 John Wiley &amp; Sons, Ltd.The amount of wi...</td>\n",
       "      <td>10.1002/dac.4241</td>\n",
       "      <td>2-s2.0-85075171039</td>\n",
       "      <td>https://www.scopus.com/inward/record.uri?partn...</td>\n",
       "      <td>NaN</td>\n",
       "      <td>0.0</td>\n",
       "      <td>Dual-collaborative DoS/DDoS mitigation approac...</td>\n",
       "      <td>2020</td>\n",
       "    </tr>\n",
       "  </tbody>\n",
       "</table>\n",
       "</div>"
      ],
      "text/plain": [
       "                                            abstract  \\\n",
       "0  Distributed denial-of-service (DDoS) attacks h...   \n",
       "1  © 2019 John Wiley & Sons, Ltd.The amount of wi...   \n",
       "\n",
       "                         doi                 eid  \\\n",
       "0  10.1109/ICON.2002.1033348  2-s2.0-33745278421   \n",
       "1           10.1002/dac.4241  2-s2.0-85075171039   \n",
       "\n",
       "                                                link  scholar  scopus  \\\n",
       "0  https://www.scopus.com/inward/record.uri?partn...      NaN    27.0   \n",
       "1  https://www.scopus.com/inward/record.uri?partn...      NaN     0.0   \n",
       "\n",
       "                                               title  year  \n",
       "0  Engineering of a global defense infrastructure...  2002  \n",
       "1  Dual-collaborative DoS/DDoS mitigation approac...  2020  "
      ]
     },
     "execution_count": 9,
     "metadata": {},
     "output_type": "execute_result"
    }
   ],
   "source": [
    "print(\"TOTAL ENTRIES:\",len(df))\n",
    "df.head(2)"
   ]
  },
  {
   "cell_type": "raw",
   "metadata": {},
   "source": [
    "for p in papers: \n",
    "    df = df.append({'year':p.coverDate[:4], 'Elsevier-id':p.eid, 'doi':p.doi, \n",
    "                    'title':p.title, 'scopus_citation':p.citedby_count,\n",
    "                    'scholar_citation':np.nan,\n",
    "                    'abstract':p.abstract, 'link':p.scopus_link},\n",
    "                   ignore_index=True)"
   ]
  },
  {
   "cell_type": "markdown",
   "metadata": {},
   "source": [
    "## Open Google Scholar and type query"
   ]
  },
  {
   "cell_type": "markdown",
   "metadata": {},
   "source": [
    "### Use Selenium - I think is better way to solve captchas"
   ]
  },
  {
   "cell_type": "code",
   "execution_count": 14,
   "metadata": {},
   "outputs": [],
   "source": [
    "import os\n",
    "from selenium import webdriver\n",
    "from selenium.webdriver.common.keys import Keys\n",
    "from selenium.webdriver.common.by import By\n",
    "from selenium.webdriver.support import expected_conditions as EC\n",
    "from selenium.webdriver.support.ui import WebDriverWait\n",
    "from selenium.common.exceptions import TimeoutException\n",
    "#from selenium.common.exceptions import *\n",
    "\n",
    "# get the path of ChromeDriverServer \n",
    "chrome_driver_path = \"/usr/local/bin/chromedriver\"\n",
    "\n",
    "# create a new Chrome session and open Google Scholar page\n",
    "driver = webdriver.Chrome(chrome_driver_path)\n",
    "driver.get(\"https://scholar.google.com\")\n",
    "\n",
    "# Find textbox and submit text\n",
    "#search_field = driver.find_element_by_name(\"q\")\n",
    "#search_field.send_keys(\"a search term\\n\")"
   ]
  },
  {
   "cell_type": "markdown",
   "metadata": {},
   "source": [
    "### Get citations on GOOGLE SCHOLAR from SCOPUS selection"
   ]
  },
  {
   "cell_type": "code",
   "execution_count": 15,
   "metadata": {},
   "outputs": [],
   "source": [
    "import requests\n",
    "from bs4 import BeautifulSoup as bs\n",
    "import time \n",
    "import random \n",
    "import datetime\n",
    "import re"
   ]
  },
  {
   "cell_type": "raw",
   "metadata": {},
   "source": [
    "#captcha_form = \"chatao\" if webdriver.find_element_by_id('captcha-form') else \"segue\"\n",
    "#print (captcha_form)"
   ]
  },
  {
   "cell_type": "raw",
   "metadata": {},
   "source": [
    "# I dont know how to recognize captcha \n",
    "# Rerun dataframe several times until fill it up.\n",
    "\n",
    "#if (webdriver.find_element_by_id('captcha-form')):\n",
    "#    print (\"chatao\")\n",
    "#    recaptcha = True\n",
    "#else:\n",
    "#    print (\"segue a vida\")\n",
    "#    recaptcha = False"
   ]
  },
  {
   "cell_type": "code",
   "execution_count": null,
   "metadata": {},
   "outputs": [],
   "source": []
  },
  {
   "cell_type": "code",
   "execution_count": 16,
   "metadata": {
    "scrolled": true
   },
   "outputs": [
    {
     "data": {
      "application/vnd.jupyter.widget-view+json": {
       "model_id": "3fb1e412354c4ce89ff07741422748db",
       "version_major": 2,
       "version_minor": 0
      },
      "text/plain": [
       "IntProgress(value=0, description='Loading', max=343)"
      ]
     },
     "metadata": {},
     "output_type": "display_data"
    },
    {
     "name": "stdout",
     "output_type": "stream",
     "text": [
      "[\t159\tFalse\t]\t372.0\t547\tThe effective temper\n",
      "[\t160\tFalse\t]\t3.0\t5\tBionic autonomic ner\n",
      "[\t161\tFalse\t]\t5.0\t15\tIFTS: Intrusion fore\n",
      "[\t162\tFalse\t]\t54.0\t120\tMitigating bandwidth\n",
      "[\t163\tFalse\t]\t0.0\t2\tA Framework for Data\n",
      "[\t164\tFalse\t]\t12.0\t16\tOverWatch: A Cross-P\n",
      "[\t165\tFalse\t]\t1.0\t2\tA firegroup mechanis\n",
      "[\t166\tFalse\t]\t83.0\t152\tFireCol: A collabora\n",
      "[\t167\tFalse\t]\t1.0\t1\tHeterogeneous tracer\n",
      "[\t168\tFalse\t]\t0.0\t0\tResearch of MDCOP mi\n",
      "[\t169\tFalse\t]\t1.0\t0\tDG-based DDoS detect\n",
      "[\t170\tFalse\t]\t11.0\t18\tDetecting and preven\n",
      "[\t171\tFalse\t]\t1.0\t2\tCooperative security\n",
      "[\t172\tFalse\t]\t0.0\t3\tDefending against ev\n",
      "[\t173\tFalse\t]\t0.0\t2\tPrivacy-preserving a\n",
      "[\t174\tFalse\t]\t1.0\t4\tBotnet detection: A \n",
      "[\t175\tFalse\t]\t29.0\t54\tAn active detecting \n",
      "[\t176\tFalse\t]\t15.0\t21\tCollaborative anomal\n",
      "[\t177\tFalse\t]\t7.0\t13\tAutoBotCatcher: Bloc\n",
      "[\t178\tFalse\t]\t33.0\t60\tCollaborative change\n",
      "[\t179\tFalse\t]\t0.0\t1\tUnfair rate limiting\n",
      "[\t180\tFalse\t]\t10.0\t50\tHoneypot back-propag\n",
      "[\t181\tFalse\t]\t5.0\t14\tStellar: Network Att\n",
      "[\t182\tFalse\t]\t0.0\t3\tStudy of decentraliz\n",
      "[\t183\tFalse\t]\t46.0\t79\tCoDef: Collaborative\n",
      "[\t184\tFalse\t]\t0.0\t0\tCo-IoT: A collaborat\n",
      "[\t185\tFalse\t]\t240.0\t405\tA survey of coordina\n",
      "[\t186\tFalse\t]\t0.0\t0\tDG-Based active defe\n",
      "[\t187\tFalse\t]\t0.0\t0\tDetecting and mitiga\n",
      "[\t188\tFalse\t]\t4.0\t8\tLeveraging SDN for c\n",
      "[\t189\tFalse\t]\t0.0\t0\tGlobal Orchestration\n",
      "[\t190\tFalse\t]\t1.0\t5\tPacket level simulat\n",
      "[\t191\tFalse\t]\t5.0\t12\tPort randomized VPN \n",
      "[\t192\tFalse\t]\t3.0\t8\tA queue model to det\n",
      "[\t193\tFalse\t]\t0.0\t0\tOn effectiveness of \n",
      "[\t194\tFalse\t]\t35.0\t83\tCooperative defence \n",
      "[\t195\tFalse\t]\t0.0\t1\tVARMAN: Multi-plane \n",
      "[\t196\tFalse\t]\t0.0\t0\tA Collaborative DDoS\n",
      "[\t197\tFalse\t]\t0.0\t1\tDesign of an adaptiv\n",
      "[\t198\tFalse\t]\t0.0\t0\tDDoS detection in hi\n",
      "[\t199\tFalse\t]\t2.0\t3\tCollaborative 'many \n",
      "[\t200\tFalse\t]\t4.0\t4\tInternet attack trac\n",
      "[\t201\tFalse\t]\t7.0\t15\tA Novel Intrusion De\n",
      "[\t202\tFalse\t]\t1.0\t1\tSDNFV Based Threat M\n",
      "[\t203\tFalse\t]\t68.0\t159\tDefeating distribute\n",
      "[\t204\tFalse\t]\t5.0\t4\tDeteriorating distri\n",
      "[\t205\tFalse\t]\t6.0\t10\tOPERA: An open-sourc\n",
      "[\t206\tFalse\t]\t30.0\t71\tDistributed denial-o\n",
      "[\t207\tFalse\t]\t2.0\t1\tEvaluating a blockch\n",
      "[\t208\tFalse\t]\t0.0\t1\tMitigating DDoS Floo\n",
      "[\t209\tFalse\t]\t20.0\t35\tAgent-based simulati\n",
      "[\t210\tFalse\t]\t32.0\t54\tA blockchain-based a\n",
      "[\t211\tFalse\t]\t1.0\t1\tA collaborative intr\n",
      "[\t212\tFalse\t]\t1.0\t1\tHistory-based thrott\n",
      "[\t213\tFalse\t]\t9.0\t14\tGlobal detection of \n",
      "[\t214\tFalse\t]\t0.0\t2\tIntrusion detection \n",
      "[\t215\tFalse\t]\t4.0\t7\tToward Mitigation-As\n",
      "[\t216\tFalse\t]\t6.0\t8\tAn efficient analyti\n",
      "[\t217\tFalse\t]\t13.0\t8\tA model of network d\n",
      "[\t218\tFalse\t]\t23.0\t26\tA Game Theory Based \n",
      "[\t219\tFalse\t]\t543.0\t951\tA survey of defense \n",
      "[\t220\tFalse\t]\t0.0\t0\tA survey on distribu\n",
      "[\t221\tFalse\t]\t4.0\t3\tA novel collaborativ\n",
      "[\t222\tFalse\t]\t1.0\t0\tIP traceback method \n",
      "[\t223\tFalse\t]\t0.0\t3\tSource address filte\n",
      "[\t224\tFalse\t]\t0.0\t0\tCollaborative detect\n",
      "[\t225\tFalse\t]\t5.0\t3\tEfficient and benefi\n",
      "[\t226\tFalse\t]\t1.0\t5\tAvailable bandwidth \n",
      "[\t227\tFalse\t]\t15.0\t27\tDetecting and reacti\n",
      "[\t228\tFalse\t]\t0.0\t0\tAdvanced snort drive\n",
      "[\t229\tFalse\t]\t4.0\t8\tAnalysis of data cen\n",
      "[\t230\tFalse\t]\t4.0\t7\tNext generation P2P \n",
      "[\t231\tFalse\t]\t0.0\t0\tMoving target defens\n",
      "[\t232\tFalse\t]\t0.0\t0\tBeyond geek speak: D\n",
      "[\t233\tFalse\t]\t1.0\t1\tDistributed collabor\n",
      "[\t234\tFalse\t]\t0.0\t2\tMajor issues of the \n",
      "[\t235\tFalse\t]\t0.0\t0\tDistributed denial-o\n",
      "[\t236\tFalse\t]\t0.0\t1\tDetection and preven\n",
      "[\t237\tFalse\t]\t7.0\t13\tCollaborative DDoS d\n",
      "[\t238\tFalse\t]\t0.0\t0\tErradication and ide\n",
      "[\t239\tFalse\t]\t5.0\t10\tAnomaly-based identi\n",
      "[\t240\tFalse\t]\t2.0\t2\tA detection and reco\n",
      "[\t241\tFalse\t]\t0.0\t1\tSuper-router: A coll\n",
      "[\t242\tFalse\t]\t1.0\t2\tcollaborative detect\n",
      "[\t243\tFalse\t]\t20.0\t41\tMeasuring botnets in\n",
      "[\t244\tFalse\t]\t2.0\t3\tCooperative architec\n",
      "[\t245\tFalse\t]\t0.0\t0\tRecent advances in t\n",
      "[\t246\tFalse\t]\t0.0\t1\tInvestigation of coo\n",
      "[\t247\tFalse\t]\t12.0\t14\tA scalable DDoS dete\n",
      "[\t248\tFalse\t]\t6.0\t9\tAssessing Internet-w\n",
      "[\t249\tFalse\t]\t0.0\t0\tAn integrated networ\n",
      "[\t250\tFalse\t]\t6.0\t11\tApplying data fusion\n",
      "[\t251\tFalse\t]\t12.0\t13\tCellular Automata-ba\n",
      "[\t252\tFalse\t]\t1.0\t7\tDesign and Implement\n",
      "[\t253\tFalse\t]\t0.0\t0\tCooperative Work Sys\n",
      "[\t254\tFalse\t]\t11.0\t17\tA cooperative mechan\n",
      "[\t255\tFalse\t]\t5.0\t9\tA collaborative botn\n",
      "[\t256\tFalse\t]\t1.0\t2\tA service architectu\n",
      "[\t257\tFalse\t]\t0.0\t0\tA Survey: Security a\n",
      "[\t258\tFalse\t]\t2.0\t6\tDolus: Cyber defense\n",
      "[\t259\tFalse\t]\t0.0\t0\tThe decision accurac\n",
      "[\t260\tFalse\t]\t3.0\t2\tAttack detection and\n",
      "[\t261\tFalse\t]\t0.0\t0\tA Cross-Plane Cooper\n",
      "[\t262\tFalse\t]\t13.0\t25\tDDoS defense mechani\n",
      "[\t263\tFalse\t]\t8.0\t18\tA three-layer defens\n",
      "[\t264\tFalse\t]\t0.0\t0\tCountermeasure of At\n",
      "[\t265\tFalse\t]\t6.0\t8\tA Framework for Enab\n",
      "[\t266\tFalse\t]\t14.0\t20\tSDN-Based DDoS Attac\n",
      "[\t267\tFalse\t]\t0.0\t0\tA survival performan\n",
      "[\t268\tFalse\t]\t0.0\t0\tAn intrusive way to \n",
      "[\t269\tFalse\t]\t2.0\t3\tCollaborative Spoofi\n",
      "[\t270\tFalse\t]\t55.0\t140\tGame-theoretic analy\n",
      "[\t271\tFalse\t]\t23.0\t142\tA data mining and CI\n",
      "[\t272\tFalse\t]\t22.0\t62\tAgent-based modeling\n",
      "[\t273\tFalse\t]\t0.0\t0\tCOMINDIS - COllabora\n",
      "[\t274\tFalse\t]\t3.0\t5\tBotnet Forensics Fra\n",
      "[\t275\tFalse\t]\t3.0\t14\tCooperative mechanis\n",
      "[\t276\tFalse\t]\t3.0\t3\tFast detection of di\n",
      "[\t277\tFalse\t]\t0.0\t0\tPISA*: A system for \n",
      "[\t278\tFalse\t]\t1.0\t2\tHow media reports tr\n",
      "[\t279\tFalse\t]\t17.0\t27\tA novel protective f\n",
      "[\t280\tFalse\t]\t6.0\t9\tCo-FQL: Anomaly dete\n",
      "[\t281\tFalse\t]\t5.0\t8\tDefense mechanisms a\n",
      "[\t282\tFalse\t]\t3.0\t9\tTrawling traffic und\n",
      "[\t283\tFalse\t]\t0.0\t1\tA deployable archite\n",
      "[\t284\tFalse\t]\t16.0\t20\tCyber security via s\n",
      "[\t285\tFalse\t]\t0.0\t2\tTowards sFlow and ad\n",
      "[\t286\tFalse\t]\t0.0\t0\tRadical systems thin\n",
      "[\t287\tFalse\t]\t14.0\t23\tCollaborative peer t\n",
      "[\t288\tFalse\t]\t22.0\t41\tDefending DDoS attac\n",
      "[\t289\tFalse\t]\t1.0\t3\tIntegrated simulatio\n",
      "[\t290\tFalse\t]\t4.0\t5\tA collaborative intr\n",
      "[\t291\tFalse\t]\t4.0\t4\tIoT: Their convenien\n",
      "[\t292\tFalse\t]\t25.0\t50\tDefeating DDoS attac\n",
      "[\t293\tFalse\t]\t20.0\t30\tTFDD: A trust-based \n",
      "[\t294\tFalse\t]\t0.0\t0\tDefending network tr\n",
      "[\t295\tFalse\t]\t3.0\t6\tModelling and Simula\n",
      "[\t296\tFalse\t]\t0.0\t0\tOpportunistic probe:\n",
      "[\t297\tFalse\t]\t2.0\t6\tCritical assessment \n",
      "[\t298\tFalse\t]\t1.0\t5\tDdos defence mechani\n",
      "[\t299\tFalse\t]\t0.0\t0\tT-CAD: A threshold b\n",
      "[\t300\tFalse\t]\t4.0\t12\tGarlic: A distribute\n",
      "[\t301\tFalse\t]\t1.0\t5\tA New Machine Learni\n",
      "[\t302\tFalse\t]\t0.0\t0\tSmart proxying for m\n",
      "[\t303\tFalse\t]\t43.0\t91\tA detection and offe\n",
      "[\t304\tFalse\t]\t0.0\t1\tIntelligent defense \n",
      "[\t305\tFalse\t]\t26.0\t53\tStress testing the b\n",
      "[\t306\tFalse\t]\t5.0\t10\tCombining speak-up w\n",
      "[\t307\tFalse\t]\t9.0\t12\tCluB: A cluster base\n",
      "[\t308\tFalse\t]\t218.0\t492\tSIFF: A stateless in\n",
      "[\t309\tFalse\t]\t1.0\t1\tSecurity management \n",
      "[\t310\tFalse\t]\t6.0\t10\tDynamic DDoS defense\n",
      "[\t311\tFalse\t]\t1.0\t8\tAn intelligent agent\n",
      "[\t312\tFalse\t]\t8.0\t21\tA collaborative netw\n",
      "[\t313\tFalse\t]\t0.0\t0\tTraffic classificati\n",
      "[\t314\tFalse\t]\t0.0\t0\tMulti-layer Authenti\n",
      "[\t315\tFalse\t]\t1.0\t2\tInteractive informat\n",
      "[\t316\tFalse\t]\t18.0\t26\tBiologically inspire\n",
      "[\t317\tFalse\t]\t0.0\t0\tDetermining when con\n",
      "[\t318\tFalse\t]\t0.0\t0\tDDoS attack preventi\n",
      "[\t319\tFalse\t]\t1.0\t1\tMulti-SDN Based Coop\n",
      "[\t320\tFalse\t]\t0.0\t0\tMulti-agent based mo\n",
      "[\t321\tFalse\t]\t8.0\t11\tDevelopment of simul\n",
      "[\t322\tFalse\t]\t0.0\t5\tEvaluation of a larg\n",
      "[\t323\tFalse\t]\t1.0\t3\tDetection and reacti\n",
      "[\t324\tFalse\t]\t3.0\t5\tProtecting DNS servi\n",
      "[\t325\tFalse\t]\t2.0\t7\tDistributed defense \n",
      "[\t326\tFalse\t]\t0.0\t0\tSDX-based security c\n",
      "[\t327\tFalse\t]\t1.0\t1\tCooperative detectin\n",
      "[\t328\tFalse\t]\t7.0\t7\tDISCS: A DIStributed\n",
      "[\t329\tFalse\t]\t0.0\t0\tDistributed detectio\n",
      "[\t330\tFalse\t]\t10.0\t21\tA collaborative peer\n",
      "[\t331\tFalse\t]\t2.0\t2\tP-CCBFF: A lightweig\n",
      "[\t332\tFalse\t]\t0.0\t0\tAn IP traceback assi\n",
      "[\t333\tFalse\t]\t0.0\t0\tActive defense schem\n",
      "[\t334\tFalse\t]\t1.0\t1\tSecured and trusted \n",
      "[\t335\tFalse\t]\t6.0\t87\tAutonomic response t\n",
      "[\t336\tFalse\t]\t2.0\t2\tDesign of an early r\n",
      "[\t337\tFalse\t]\t2.0\t5\tP2P-AIS: A P2P artif\n",
      "[\t338\tFalse\t]\t4.0\t9\tMitigation of DDoS a\n",
      "[\t339\tFalse\t]\t2.0\t6\tA survey for restric\n",
      "[\t340\tFalse\t]\t1.0\t1\tCooperative signalin\n",
      "[\t341\tFalse\t]\t0.0\t1\tSecurity experimenta\n",
      "[\t342\tFalse\t]\t1.0\t0\tDefense strategy aga\n"
     ]
    }
   ],
   "source": [
    "scholar_url = 'https://scholar.google.com/scholar?as_sdt=0%2C5&btnG=&hl=en&inst=5726176096060060532&q='\n",
    "msg_cited = ['Cited', 'Geciteerd', 'Citado']\n",
    "recaptcha = False\n",
    "\n",
    "bar = widgets.IntProgress(\n",
    "    min=0, \n",
    "    max=len(df), \n",
    "    description='Loading')\n",
    "display(bar)\n",
    "\n",
    "for i in df.index:\n",
    "    bar.value += 1\n",
    "    bar.description = str(bar.value)\n",
    "    \n",
    "    if (pd.notnull(df.scholar.loc[i])):\n",
    "        #print ('[', i , ']', '...skipping..')\n",
    "        continue\n",
    "        \n",
    "    p = df.loc[i]\n",
    "    url = scholar_url + '\"'+ p.title + '\"'\n",
    "    driver.get(url)\n",
    "    \n",
    "    soup = bs(driver.page_source, 'html.parser')\n",
    "    \n",
    "    # Must change here to multilingual too\n",
    "    cited_by = soup.select_one('a:contains(\"Cited by\")').text if soup.select_one('a:contains(\"Cited by\")') is not None else 'No citation count'\n",
    "    #print (cited_by)\n",
    "\n",
    "    if (cited_by.split()[0] in msg_cited) :\n",
    "        # Citation found (update dataframe)\n",
    "        scholar_citation = re.sub('[^0-9]', '', cited_by)\n",
    "        df.at[i,'scholar']=scholar_citation\n",
    "\n",
    "    else:\n",
    "        # Citation not found (can be lang, captcha or zero citation)\n",
    "        scholar_citation = 0\n",
    "        recaptcha = True\n",
    "        \n",
    "        #some_google_answers = ['Related', 'results', 'entire web', 'Suggestions', 'versions', 'Related articles']\n",
    "        #for txt in some_google_answers:\n",
    "        #    if ( soup.select_one('a:contains(txt)')) :\n",
    "        #        # There is no citations for sure\n",
    "        #        recaptcha = False \n",
    "        #        df.at[i,'scholar']=scholar_citation\n",
    "        #        print ('Found: ', txt)\n",
    "           \n",
    "        #if ( soup.find (text=re.compile(re.escape(p.title))) ):\n",
    "        if ( soup.find(text=re.compile( re.escape(p.title[:20]),re.I)) ):\n",
    "            # I have title, zero citation = not in recaptcha\n",
    "            recaptcha = False \n",
    "            df.at[i,'scholar']=scholar_citation\n",
    "        \n",
    "    #print (scholar_citation)  \n",
    "    print ('[', i , recaptcha, ']', p.scopus, scholar_citation, p.title[0:20], sep=\"\\t\")\n",
    "    \n",
    "    #time.sleep(random.randint(5, 30))"
   ]
  },
  {
   "cell_type": "code",
   "execution_count": null,
   "metadata": {},
   "outputs": [],
   "source": []
  },
  {
   "cell_type": "code",
   "execution_count": 17,
   "metadata": {},
   "outputs": [],
   "source": [
    "df.to_csv('ddos_coop_collab_citations.csv',index=False)"
   ]
  },
  {
   "cell_type": "code",
   "execution_count": null,
   "metadata": {},
   "outputs": [],
   "source": []
  },
  {
   "cell_type": "raw",
   "metadata": {},
   "source": [
    "# Graphs + examples\n",
    "# https://medium.com/data-hackers/uma-introdução-simples-ao-pandas-1e15eea37fa1\n",
    "df2.sort_values(by=\"scopus\",ascending=False,na_position='first')\n",
    "df2.scopus.isna()\n",
    "df2.scopus.max()\n",
    "df2.scopus.describe()\n",
    "df2['scopus'].plot.hist(bins=100, edgecolor='black')\n",
    "df2['scopus'].value_counts().plot.barh()"
   ]
  },
  {
   "cell_type": "raw",
   "metadata": {},
   "source": [
    "# Prototype to test typing in scholar (q)uery field\n",
    "#   search_field = driver.find_element_by_name(\"q\")\n",
    "#   search_field.send_keys('\"' + p.title + '\"\\n')"
   ]
  },
  {
   "cell_type": "raw",
   "metadata": {},
   "source": [
    "# Prototype to test captcha-form active and wait for help\n",
    "#   driver.get(url)\n",
    "#   captcha_form = \"chatao\" if  is driver.find_element_by_id('captcha-form') else \"segue\"\n",
    "#   print (captcha_form)"
   ]
  },
  {
   "cell_type": "code",
   "execution_count": null,
   "metadata": {},
   "outputs": [],
   "source": []
  },
  {
   "cell_type": "code",
   "execution_count": null,
   "metadata": {},
   "outputs": [],
   "source": []
  },
  {
   "cell_type": "raw",
   "metadata": {},
   "source": [
    "texts = []\n",
    "for p in papers:\n",
    "    text = (p.title or '') + ' ' + (p.abstract or '')\n",
    "    text = text.lower()\n",
    "    text = re.sub('[^a-zA-Z0-9]', ' ', text) # Replace punctation by spaces\n",
    "    texts.append([w for w in text.split(' ') if w]) # Split on spaces, remove empty items"
   ]
  },
  {
   "cell_type": "code",
   "execution_count": null,
   "metadata": {},
   "outputs": [],
   "source": []
  }
 ],
 "metadata": {
  "kernelspec": {
   "display_name": "Python 3",
   "language": "python",
   "name": "python3"
  },
  "language_info": {
   "codemirror_mode": {
    "name": "ipython",
    "version": 3
   },
   "file_extension": ".py",
   "mimetype": "text/x-python",
   "name": "python",
   "nbconvert_exporter": "python",
   "pygments_lexer": "ipython3",
   "version": "3.8.2"
  }
 },
 "nbformat": 4,
 "nbformat_minor": 2
}
